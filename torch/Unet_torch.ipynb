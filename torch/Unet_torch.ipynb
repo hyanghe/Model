{
 "cells": [
  {
   "cell_type": "code",
   "execution_count": null,
   "id": "522fd9ba-9079-4e4f-913b-14c840d6e388",
   "metadata": {},
   "outputs": [],
   "source": [
    "import torch\n",
    "import torch.nn as nn\n",
    "import numpy as np\n",
    "from mlframework.base.vistools import plots\n",
    "from mlframework.torch import Trainer\n",
    "from mlframework.torch import DataStreamer\n",
    "from mlframework.torch import RegressionEvaluator as Evaluator"
   ]
  },
  {
   "cell_type": "code",
   "execution_count": null,
   "id": "21e9b977-9621-4fc4-9897-8883fdcdd572",
   "metadata": {},
   "outputs": [],
   "source": [
    "class DoubleConvolution(nn.Module):\n",
    "    def __init__(self, in_channels, out_channels):\n",
    "        super().__init__()\n",
    "        self.convolution1 = nn.Conv2d(in_channels, out_channels, kernel_size=3, padding=1)\n",
    "        self.activation1 = nn.ReLU()\n",
    "\n",
    "        self.convolution2 = nn.Conv2d(out_channels, out_channels, kernel_size=3, padding=1)\n",
    "        self.activation2 = nn.ReLU()\n",
    "\n",
    "    def forward(self, x):\n",
    "        x = self.activation1(self.convolution1(x))\n",
    "        x = self.activation2(self.convolution2(x))\n",
    "        return x\n",
    "\n",
    "class DownSample(nn.Module):\n",
    "    def __init__(self, in_channels, out_channels):\n",
    "        super().__init__()\n",
    "        self.conv = DoubleConvolution(in_channels, out_channels)\n",
    "        self.pool = nn.MaxPool2d(2)\n",
    "\n",
    "    def forward(self, x):\n",
    "        skip = self.conv(x)\n",
    "        x = self.pool(skip)\n",
    "        return x, skip\n",
    "\n",
    "\n",
    "class UpSample(nn.Module):\n",
    "    def __init__(self, in_channels, out_channels):\n",
    "        super().__init__()\n",
    "        self.up = nn.ConvTranspose2d(in_channels, out_channels, kernel_size=2, stride=2)\n",
    "        self.conv = DoubleConvolution(out_channels+out_channels, out_channels)\n",
    "\n",
    "    def forward(self, x, skip):\n",
    "        x = self.up(x)\n",
    "        x = torch.cat([x, skip], axis=1)\n",
    "        x = self.conv(x)\n",
    "        return x\n",
    "\n",
    "class Unet(nn.Module):\n",
    "    def __init__(self, filters):\n",
    "        super().__init__()\n",
    "        num_c = filters\n",
    "        self.down1 = DownSample(1, num_c)\n",
    "        self.down2 = DownSample(num_c, num_c*2)\n",
    "        self.down3 = DownSample(num_c*2, num_c*4)\n",
    "        self.down4 = DownSample(num_c*4, num_c*8)\n",
    "\n",
    "        self.z = DoubleConvolution(num_c*8, num_c*16)\n",
    "\n",
    "        self.up1 = UpSample(num_c*16, num_c*8)\n",
    "        self.up2 = UpSample(num_c*8, num_c*4)\n",
    "        self.up3 = UpSample(num_c*4, num_c*2)\n",
    "        self.up4 = UpSample(num_c*2, num_c*1)\n",
    "\n",
    "        self.outputs = nn.Conv2d(num_c, 1, kernel_size=3, padding=1)\n",
    "\n",
    "    def forward(self, x):\n",
    "        x1, skip1 = self.down1(x)\n",
    "        x2, skip2 = self.down2(x1)\n",
    "        x3, skip3 = self.down3(x2)\n",
    "        x4, skip4 = self.down4(x3)\n",
    "        z = self.z(x4)\n",
    "        y1 = self.up1(z, skip4)\n",
    "        y2 = self.up2(y1, skip3)\n",
    "        y3 = self.up3(y2, skip2)\n",
    "        y4 = self.up4(y3, skip1)\n",
    "\n",
    "        return self.outputs(y4)"
   ]
  },
  {
   "cell_type": "markdown",
   "id": "bee7bc82-8a4e-491c-a420-b3b4e35504b3",
   "metadata": {},
   "source": [
    "## Prepare DataStreamer"
   ]
  },
  {
   "cell_type": "code",
   "execution_count": null,
   "id": "d931243a-9e4a-4008-bedd-b5443528126d",
   "metadata": {},
   "outputs": [],
   "source": [
    "TRAIN_DATA_X = './condition.npy'\n",
    "TRAIN_DATA_Y = './solution.npy'\n",
    "\n",
    "train_data_x = np.expand_dims(np.load(TRAIN_DATA_X), 1)[:10]\n",
    "train_data_y = np.expand_dims(np.load(TRAIN_DATA_Y), 1)[:10]\n",
    "\n",
    "datastreamer = DataStreamer(input=train_data_x,\n",
    "                            output=train_data_y,\n",
    "                            shuffle=True,\n",
    "                            batch_size=512,\n",
    "                            split=(8, 2, 0))\n",
    "train_data, val_data, _ = datastreamer.train_data, datastreamer.val_data, datastreamer.test_data"
   ]
  },
  {
   "cell_type": "markdown",
   "id": "5a383b94-3307-4217-97d3-62b33736393c",
   "metadata": {},
   "source": [
    "## Trainer"
   ]
  },
  {
   "cell_type": "code",
   "execution_count": null,
   "id": "dc42d9b3-a807-4874-85b3-80480da4005f",
   "metadata": {},
   "outputs": [],
   "source": [
    "output_dir = \"output_\" + \"Unet\"\n",
    "num_filter = 64\n",
    "model = Unet(num_filter)\n",
    "my_trainer = Trainer(model=model,\n",
    "                    run_number=1,\n",
    "                    train_dataloader=train_data,\n",
    "                    validation_dataloader=val_data,\n",
    "                    n_epochs=1500,\n",
    "                    output_dir=output_dir,\n",
    "                    loss=nn.MSELoss(),\n",
    "                    )"
   ]
  },
  {
   "cell_type": "code",
   "execution_count": null,
   "id": "98e7abb6-1dcd-4635-a054-5709d16c9f9b",
   "metadata": {},
   "outputs": [],
   "source": [
    "my_trainer.train()"
   ]
  }
 ],
 "metadata": {
  "kernelspec": {
   "display_name": "Python [conda env:mlframework_torch]",
   "language": "python",
   "name": "conda-env-mlframework_torch-py"
  },
  "language_info": {
   "codemirror_mode": {
    "name": "ipython",
    "version": 3
   },
   "file_extension": ".py",
   "mimetype": "text/x-python",
   "name": "python",
   "nbconvert_exporter": "python",
   "pygments_lexer": "ipython3",
   "version": "3.8.15"
  }
 },
 "nbformat": 4,
 "nbformat_minor": 5
}
